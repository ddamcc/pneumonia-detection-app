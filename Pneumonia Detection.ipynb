{
 "cells": [
  {
   "cell_type": "markdown",
   "id": "c2c2fd83",
   "metadata": {},
   "source": [
    "<h1><center>Pneumonia Detection Using X-Rays</center></h1>"
   ]
  },
  {
   "cell_type": "markdown",
   "id": "e32ae9ec",
   "metadata": {},
   "source": [
    "<h3><center>Implemented using Convolution Neural Network (CNN)</center></h3>"
   ]
  },
  {
   "cell_type": "markdown",
   "id": "04161ee2",
   "metadata": {},
   "source": [
    "#### Project Workflow"
   ]
  },
  {
   "cell_type": "raw",
   "id": "8cd59510",
   "metadata": {},
   "source": [
    "1.Download the dataset.\n",
    "2.Classify the dataset into train and test sets.\n",
    "3.Add the neural network layers.\n",
    "4.Load the trained images and fit the model. \n",
    "5.Test the model.\n",
    "6.Save the model and its dependencies.\n",
    "7.Build a Web application using flask that integrates with the model built."
   ]
  },
  {
   "cell_type": "markdown",
   "id": "e288f6f0",
   "metadata": {},
   "source": [
    "#### Importing the libraries"
   ]
  },
  {
   "cell_type": "code",
   "execution_count": 51,
   "id": "facd80fa",
   "metadata": {},
   "outputs": [],
   "source": [
    "from tensorflow.keras.preprocessing.image import ImageDataGenerator, load_img\n",
    "from keras.models import Sequential\n",
    "from keras.layers import Conv2D , MaxPooling2D\n",
    "from keras.layers import Activation, Flatten, Dropout, Dense, BatchNormalization\n",
    "from keras import backend as K\n",
    "import os\n",
    "import numpy as np\n",
    "import pandas as pd"
   ]
  },
  {
   "cell_type": "markdown",
   "id": "796619e2",
   "metadata": {},
   "source": [
    "#### Specifying the path of the data"
   ]
  },
  {
   "cell_type": "code",
   "execution_count": 49,
   "id": "eeae422e",
   "metadata": {},
   "outputs": [],
   "source": [
    "train = \"chest_xray/train\"\n",
    "test = \"chest_xray/test\"\n",
    "val = \"chest_xray/val\""
   ]
  },
  {
   "cell_type": "code",
   "execution_count": 31,
   "id": "d15e3ccc",
   "metadata": {},
   "outputs": [],
   "source": [
    "# ImageDataGenerator Generate batches of tensor image data with real-time data augmentation.\n",
    "# The data will be looped over (in batches)\n",
    "train_datagen = ImageDataGenerator(rescale = 1./255, shear_range = 0.2, zoom_range = 0.2, rotation_range = 30,\n",
    "                                   width_shift_range=0.1, height_shift_range=0.1, horizontal_flip = True, vertical_flip=False)\n",
    "test_datagen = ImageDataGenerator(rescale = 1./255)"
   ]
  },
  {
   "cell_type": "markdown",
   "id": "3867a648",
   "metadata": {},
   "source": [
    "###### 1.Here we import images directly from Directory by using flow_from_directory method.\n",
    "###### 2.flow_from_directory() automatically infers the labels from the directory structure of the folders containing images."
   ]
  },
  {
   "cell_type": "code",
   "execution_count": 32,
   "id": "b0dad34d",
   "metadata": {},
   "outputs": [
    {
     "name": "stdout",
     "output_type": "stream",
     "text": [
      "Found 5216 images belonging to 2 classes.\n"
     ]
    }
   ],
   "source": [
    "train_gen = train_datagen.flow_from_directory(train,\n",
    "                                            target_size = (150,150),\n",
    "                                            batch_size = 32,\n",
    "                                            class_mode = \"binary\" )"
   ]
  },
  {
   "cell_type": "code",
   "execution_count": 33,
   "id": "5ccb8ec4",
   "metadata": {},
   "outputs": [
    {
     "name": "stdout",
     "output_type": "stream",
     "text": [
      "Found 624 images belonging to 2 classes.\n"
     ]
    }
   ],
   "source": [
    "test_gen = train_datagen.flow_from_directory(test,\n",
    "                                            target_size = (150,150),\n",
    "                                            batch_size = 32,\n",
    "                                            class_mode = \"binary\" )"
   ]
  },
  {
   "cell_type": "code",
   "execution_count": 34,
   "id": "b81748f8",
   "metadata": {},
   "outputs": [
    {
     "name": "stdout",
     "output_type": "stream",
     "text": [
      "Found 16 images belonging to 2 classes.\n"
     ]
    }
   ],
   "source": [
    "val_gen = train_datagen.flow_from_directory(val,\n",
    "                                            target_size = (150,150),\n",
    "                                            batch_size = 32,\n",
    "                                            class_mode = \"binary\" )"
   ]
  },
  {
   "cell_type": "markdown",
   "id": "2643e0c4",
   "metadata": {},
   "source": [
    "#### Initialize The Model and Add CNN And Dense Layers"
   ]
  },
  {
   "cell_type": "code",
   "execution_count": 35,
   "id": "074176fa",
   "metadata": {},
   "outputs": [],
   "source": [
    "# Initialize The Model\n",
    "model = Sequential()\n",
    "\n",
    "# The number of filters are 32 and the kernal_size is (3,3)\n",
    "\n",
    "# Add the convolution layer\n",
    "model.add(Conv2D(32, (3, 3), input_shape=(150,150,3)))\n",
    "\n",
    "# Add the activation layer\n",
    "model.add(Activation('relu'))\n",
    "\n",
    "# Add the pooling layer\n",
    "model.add(MaxPooling2D(pool_size=(2, 2)))\n",
    "\n",
    "model.add(Conv2D(64, (3, 3)))\n",
    "model.add(Activation('relu'))\n",
    "model.add(MaxPooling2D(pool_size=(2, 2)))\n",
    "\n",
    "model.add(Conv2D(128, (3, 3)))\n",
    "model.add(Activation('relu'))\n",
    "model.add(MaxPooling2D(pool_size=(2, 2)))\n",
    "\n",
    "model.add(Conv2D(256, (3, 3)))\n",
    "model.add(Activation('relu'))\n",
    "model.add(MaxPooling2D(pool_size=(2, 2)))\n",
    "\n",
    "# adding the flatten layer \n",
    "model.add(Flatten())\n",
    "model.add(Dropout(0.2))\n",
    "\n",
    "model.add(Dense(256))\n",
    "model.add(Activation('relu'))\n",
    "model.add(Dense(1))\n",
    "model.add(Activation('sigmoid'))"
   ]
  },
  {
   "cell_type": "markdown",
   "id": "a9d38b23",
   "metadata": {},
   "source": [
    "#### Configuring The Learning Process "
   ]
  },
  {
   "cell_type": "code",
   "execution_count": 36,
   "id": "b2eb64bc",
   "metadata": {},
   "outputs": [],
   "source": [
    "model.compile(optimizer = \"adam\",loss = \"binary_crossentropy\",metrics = [\"acc\"])"
   ]
  },
  {
   "cell_type": "markdown",
   "id": "7115aaea",
   "metadata": {},
   "source": [
    "#### Fit the Model and train the model"
   ]
  },
  {
   "cell_type": "code",
   "execution_count": 37,
   "id": "73418c02",
   "metadata": {},
   "outputs": [
    {
     "name": "stderr",
     "output_type": "stream",
     "text": [
      "C:\\Users\\ANSHUL~1\\AppData\\Local\\Temp/ipykernel_7720/1678280275.py:1: UserWarning: `Model.fit_generator` is deprecated and will be removed in a future version. Please use `Model.fit`, which supports generators.\n",
      "  history = model.fit_generator(train_gen,\n"
     ]
    },
    {
     "name": "stdout",
     "output_type": "stream",
     "text": [
      "Epoch 1/20\n",
      "163/163 [==============================] - 387s 2s/step - loss: 0.5949 - acc: 0.7303 - val_loss: 0.7083 - val_acc: 0.5000\n",
      "Epoch 2/20\n",
      "163/163 [==============================] - 310s 2s/step - loss: 0.4775 - acc: 0.7717 - val_loss: 0.7097 - val_acc: 0.7500\n",
      "Epoch 3/20\n",
      "163/163 [==============================] - 310s 2s/step - loss: 0.3609 - acc: 0.8395 - val_loss: 0.4129 - val_acc: 0.8750\n",
      "Epoch 4/20\n",
      "163/163 [==============================] - 313s 2s/step - loss: 0.3128 - acc: 0.8641 - val_loss: 0.7546 - val_acc: 0.6875\n",
      "Epoch 5/20\n",
      "163/163 [==============================] - 308s 2s/step - loss: 0.2628 - acc: 0.8905 - val_loss: 0.9935 - val_acc: 0.6250\n",
      "Epoch 6/20\n",
      "163/163 [==============================] - 313s 2s/step - loss: 0.2533 - acc: 0.8949 - val_loss: 0.9944 - val_acc: 0.6875\n",
      "Epoch 7/20\n",
      "163/163 [==============================] - 313s 2s/step - loss: 0.2183 - acc: 0.9149 - val_loss: 1.1450 - val_acc: 0.6250\n",
      "Epoch 8/20\n",
      "163/163 [==============================] - 313s 2s/step - loss: 0.1938 - acc: 0.9218 - val_loss: 0.6583 - val_acc: 0.6875\n",
      "Epoch 9/20\n",
      "163/163 [==============================] - 308s 2s/step - loss: 0.1910 - acc: 0.9279 - val_loss: 1.1014 - val_acc: 0.6875\n",
      "Epoch 10/20\n",
      "163/163 [==============================] - 308s 2s/step - loss: 0.1781 - acc: 0.9323 - val_loss: 1.2353 - val_acc: 0.6875\n",
      "Epoch 11/20\n",
      "163/163 [==============================] - 310s 2s/step - loss: 0.1645 - acc: 0.9387 - val_loss: 1.7047 - val_acc: 0.5625\n",
      "Epoch 12/20\n",
      "163/163 [==============================] - 309s 2s/step - loss: 0.1481 - acc: 0.9427 - val_loss: 2.0253 - val_acc: 0.5625\n",
      "Epoch 13/20\n",
      "163/163 [==============================] - 325s 2s/step - loss: 0.1715 - acc: 0.9308 - val_loss: 0.5160 - val_acc: 0.7500\n",
      "Epoch 14/20\n",
      "163/163 [==============================] - 310s 2s/step - loss: 0.1432 - acc: 0.9457 - val_loss: 1.6631 - val_acc: 0.6250\n",
      "Epoch 15/20\n",
      "163/163 [==============================] - 328s 2s/step - loss: 0.1476 - acc: 0.9419 - val_loss: 0.7120 - val_acc: 0.6250\n",
      "Epoch 16/20\n",
      "163/163 [==============================] - 387s 2s/step - loss: 0.1458 - acc: 0.9452 - val_loss: 0.9964 - val_acc: 0.5625\n",
      "Epoch 17/20\n",
      "163/163 [==============================] - 324s 2s/step - loss: 0.1405 - acc: 0.9471 - val_loss: 1.3588 - val_acc: 0.5625\n",
      "Epoch 18/20\n",
      "163/163 [==============================] - 353s 2s/step - loss: 0.1409 - acc: 0.9469 - val_loss: 1.3335 - val_acc: 0.5000\n",
      "Epoch 19/20\n",
      "163/163 [==============================] - 316s 2s/step - loss: 0.1324 - acc: 0.9484 - val_loss: 0.9816 - val_acc: 0.7500\n",
      "Epoch 20/20\n",
      "163/163 [==============================] - 312s 2s/step - loss: 0.1309 - acc: 0.9484 - val_loss: 0.8445 - val_acc: 0.6250\n"
     ]
    }
   ],
   "source": [
    "history = model.fit_generator(train_gen,\n",
    "                         steps_per_epoch = 163,\n",
    "                         epochs = 20,\n",
    "                         validation_data = val_gen,\n",
    "                         validation_steps = 1)"
   ]
  },
  {
   "cell_type": "code",
   "execution_count": 38,
   "id": "068754eb",
   "metadata": {},
   "outputs": [
    {
     "name": "stderr",
     "output_type": "stream",
     "text": [
      "C:\\Users\\ANSHUL~1\\AppData\\Local\\Temp/ipykernel_7720/2894057890.py:2: UserWarning: `Model.evaluate_generator` is deprecated and will be removed in a future version. Please use `Model.evaluate`, which supports generators.\n",
      "  test_acc = model.evaluate_generator(test_gen,624/32)\n"
     ]
    },
    {
     "name": "stdout",
     "output_type": "stream",
     "text": [
      "\n",
      "Accuracy: 86.38%\n"
     ]
    }
   ],
   "source": [
    "#Accuracy of test data.\n",
    "test_acc = model.evaluate_generator(test_gen,624/32)\n",
    "print(\"\\nAccuracy:\"+\" %.2f%%\" % ( test_acc[1]*100))"
   ]
  },
  {
   "cell_type": "markdown",
   "id": "8502506e",
   "metadata": {},
   "source": [
    "#### Save The Model"
   ]
  },
  {
   "cell_type": "code",
   "execution_count": 39,
   "id": "47d79a17",
   "metadata": {},
   "outputs": [],
   "source": [
    "model.save(\"pneumonia.h5\")"
   ]
  },
  {
   "cell_type": "code",
   "execution_count": 40,
   "id": "1076d750",
   "metadata": {},
   "outputs": [],
   "source": [
    "model_json = model.to_json()\n",
    "with open(\"model.json\",\"w\") as json_file:\n",
    "    json_file.write(model_json)"
   ]
  },
  {
   "cell_type": "markdown",
   "id": "4bad276f",
   "metadata": {},
   "source": [
    "#### Testing the model "
   ]
  },
  {
   "cell_type": "code",
   "execution_count": 41,
   "id": "e784ec48",
   "metadata": {},
   "outputs": [],
   "source": [
    "from tensorflow.keras.models import load_model\n",
    "from tensorflow.keras.preprocessing import image\n",
    "import numpy as np\n",
    "import cv2"
   ]
  },
  {
   "cell_type": "markdown",
   "id": "2f1c7113",
   "metadata": {},
   "source": [
    "#### Load the model "
   ]
  },
  {
   "cell_type": "code",
   "execution_count": 42,
   "id": "41340eeb",
   "metadata": {},
   "outputs": [],
   "source": [
    "model = load_model(\"pneumonia.h5\")"
   ]
  },
  {
   "cell_type": "code",
   "execution_count": 43,
   "id": "e6551b67",
   "metadata": {},
   "outputs": [],
   "source": [
    "from skimage.transform import resize"
   ]
  },
  {
   "cell_type": "code",
   "execution_count": 44,
   "id": "379be4a8",
   "metadata": {},
   "outputs": [],
   "source": [
    "def detect(frame):\n",
    "    try:\n",
    "        img = resize(frame, (150,150))\n",
    "        img = np.expand_dims(img, axis=0)\n",
    "        prediction = model.predict(img)\n",
    "        print(prediction)\n",
    "        prediction = prediction > 0.5\n",
    "        print(prediction)\n",
    "        s = \"PNEUMONIA\" if (prediction[0][0]) else \"NORMAL\"\n",
    "        return (s)\n",
    "    except AttributeError:\n",
    "        print(\"SHAPE NOT FOUND\")"
   ]
  },
  {
   "cell_type": "code",
   "execution_count": 45,
   "id": "3496d7e6",
   "metadata": {},
   "outputs": [
    {
     "data": {
      "image/png": "[encoded data removed]",
      "text/plain": [
       "<PIL.Image.Image image mode=RGB size=128x128 at 0x276444C37F0>"
      ]
     },
     "execution_count": 45,
     "metadata": {},
     "output_type": "execute_result"
    }
   ],
   "source": [
    "image.load_img(\"test1.jpeg\",target_size = (128,128))"
   ]
  },
  {
   "cell_type": "code",
   "execution_count": 46,
   "id": "9d610df8",
   "metadata": {},
   "outputs": [
    {
     "name": "stdout",
     "output_type": "stream",
     "text": [
      "1/1 [==============================] - 0s 334ms/step\n",
      "[[0.24361739]]\n",
      "[[False]]\n"
     ]
    },
    {
     "data": {
      "text/plain": [
       "'NORMAL'"
      ]
     },
     "execution_count": 46,
     "metadata": {},
     "output_type": "execute_result"
    }
   ],
   "source": [
    "frame = cv2.imread(\"test1.jpeg\")\n",
    "data = detect(frame)\n",
    "data"
   ]
  },
  {
   "cell_type": "code",
   "execution_count": 47,
   "id": "4610c104",
   "metadata": {},
   "outputs": [
    {
     "data": {
      "image/png": "[encoded data removed]",
      "text/plain": [
       "<PIL.Image.Image image mode=RGB size=128x128 at 0x276483826D0>"
      ]
     },
     "execution_count": 47,
     "metadata": {},
     "output_type": "execute_result"
    }
   ],
   "source": [
    "image.load_img(\"test2.jpeg\",target_size = (128,128))"
   ]
  },
  {
   "cell_type": "code",
   "execution_count": 48,
   "id": "ed300bc7",
   "metadata": {},
   "outputs": [
    {
     "name": "stdout",
     "output_type": "stream",
     "text": [
      "1/1 [==============================] - 0s 38ms/step\n",
      "[[0.98950994]]\n",
      "[[ True]]\n"
     ]
    },
    {
     "data": {
      "text/plain": [
       "'PNEUMONIA'"
      ]
     },
     "execution_count": 48,
     "metadata": {},
     "output_type": "execute_result"
    }
   ],
   "source": [
    "frame = cv2.imread(\"test2.jpeg\")\n",
    "data = detect(frame)\n",
    "data"
   ]
  },
  {
   "cell_type": "code",
   "execution_count": null,
   "id": "2bc782ac",
   "metadata": {},
   "outputs": [],
   "source": []
  }
 ],
 "metadata": {
  "kernelspec": {
   "display_name": "Python 3 (ipykernel)",
   "language": "python",
   "name": "python3"
  },
  "language_info": {
   "codemirror_mode": {
    "name": "ipython",
    "version": 3
   },
   "file_extension": ".py",
   "mimetype": "text/x-python",
   "name": "python",
   "nbconvert_exporter": "python",
   "pygments_lexer": "ipython3",
   "version": "3.9.7"
  }
 },
 "nbformat": 4,
 "nbformat_minor": 5
}
